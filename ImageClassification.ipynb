{
 "cells": [
  {
   "cell_type": "markdown",
   "metadata": {},
   "source": [
    "# IMAGE CLASSIFICATION"
   ]
  },
  {
   "cell_type": "markdown",
   "metadata": {},
   "source": [
    "## Training Model"
   ]
  },
  {
   "cell_type": "markdown",
   "metadata": {},
   "source": [
    "### Step 1: Importing all the necessary libraries "
   ]
  },
  {
   "cell_type": "code",
   "execution_count": 4,
   "metadata": {
    "scrolled": false
   },
   "outputs": [
    {
     "name": "stdout",
     "output_type": "stream",
     "text": [
      "Collecting absl-py==1.2.0\n",
      "  Using cached absl_py-1.2.0-py3-none-any.whl (123 kB)\n",
      "Collecting asttokens==2.0.8\n",
      "  Using cached asttokens-2.0.8-py2.py3-none-any.whl (23 kB)\n",
      "Collecting astunparse==1.6.3\n",
      "  Using cached astunparse-1.6.3-py2.py3-none-any.whl (12 kB)\n",
      "Requirement already satisfied: backcall==0.2.0 in c:\\users\\jgk687\\anaconda3\\lib\\site-packages (from -r requirements.txt (line 4)) (0.2.0)\n",
      "Collecting bokeh==2.4.3\n",
      "  Using cached bokeh-2.4.3-py3-none-any.whl (18.5 MB)\n",
      "Collecting cachetools==5.2.0\n",
      "  Using cached cachetools-5.2.0-py3-none-any.whl (9.3 kB)\n",
      "Collecting certifi==2022.6.15\n",
      "  Using cached certifi-2022.6.15-py3-none-any.whl (160 kB)\n",
      "Collecting charset-normalizer==2.1.0\n",
      "  Using cached charset_normalizer-2.1.0-py3-none-any.whl (39 kB)\n",
      "Collecting colorama==0.4.5\n",
      "  Using cached colorama-0.4.5-py2.py3-none-any.whl (16 kB)\n",
      "Requirement already satisfied: cycler==0.11.0 in c:\\users\\jgk687\\anaconda3\\lib\\site-packages (from -r requirements.txt (line 10)) (0.11.0)\n",
      "Requirement already satisfied: decorator==5.1.1 in c:\\users\\jgk687\\anaconda3\\lib\\site-packages (from -r requirements.txt (line 11)) (5.1.1)\n",
      "Collecting distlib==0.3.5\n",
      "  Using cached distlib-0.3.5-py2.py3-none-any.whl (466 kB)\n",
      "Collecting executing==0.10.0\n",
      "  Using cached executing-0.10.0-py2.py3-none-any.whl (17 kB)\n",
      "Collecting filelock==3.8.0\n",
      "  Using cached filelock-3.8.0-py3-none-any.whl (10 kB)\n",
      "Collecting flatbuffers==1.12\n",
      "  Using cached flatbuffers-1.12-py2.py3-none-any.whl (15 kB)\n",
      "Collecting fonttools==4.36.0\n",
      "  Using cached fonttools-4.36.0-py3-none-any.whl (950 kB)\n",
      "Collecting gast==0.4.0\n",
      "  Using cached gast-0.4.0-py3-none-any.whl (9.8 kB)\n",
      "Collecting google-auth==2.10.0\n",
      "  Using cached google_auth-2.10.0-py2.py3-none-any.whl (167 kB)\n",
      "Collecting google-auth-oauthlib==0.4.6\n",
      "  Using cached google_auth_oauthlib-0.4.6-py2.py3-none-any.whl (18 kB)\n",
      "Collecting google-pasta==0.2.0\n",
      "  Using cached google_pasta-0.2.0-py3-none-any.whl (57 kB)\n",
      "Collecting grpcio==1.47.0\n",
      "  Using cached grpcio-1.47.0-cp39-cp39-win_amd64.whl (3.6 MB)\n",
      "Collecting h5py==3.7.0\n",
      "  Using cached h5py-3.7.0-cp39-cp39-win_amd64.whl (2.6 MB)\n",
      "Requirement already satisfied: idna==3.3 in c:\\users\\jgk687\\anaconda3\\lib\\site-packages (from -r requirements.txt (line 23)) (3.3)\n",
      "Collecting ipython==8.4.0\n",
      "  Using cached ipython-8.4.0-py3-none-any.whl (750 kB)\n",
      "Requirement already satisfied: jedi==0.18.1 in c:\\users\\jgk687\\anaconda3\\lib\\site-packages (from -r requirements.txt (line 25)) (0.18.1)\n",
      "Collecting Jinja2==3.1.2\n",
      "  Using cached Jinja2-3.1.2-py3-none-any.whl (133 kB)\n",
      "Requirement already satisfied: joblib==1.1.0 in c:\\users\\jgk687\\anaconda3\\lib\\site-packages (from -r requirements.txt (line 27)) (1.1.0)\n",
      "Note: you may need to restart the kernel to use updated packages.\n"
     ]
    },
    {
     "name": "stderr",
     "output_type": "stream",
     "text": [
      "WARNING: Ignoring invalid distribution -harset-normalizer (c:\\users\\jgk687\\anaconda3\\lib\\site-packages)\n",
      "WARNING: Ignoring invalid distribution -harset-normalizer (c:\\users\\jgk687\\anaconda3\\lib\\site-packages)\n",
      "WARNING: Ignoring invalid distribution -harset-normalizer (c:\\users\\jgk687\\anaconda3\\lib\\site-packages)\n",
      "  WARNING: The script normalizer.exe is installed in 'C:\\Users\\JGK687\\AppData\\Roaming\\Python\\Python39\\Scripts' which is not on PATH.\n",
      "  Consider adding this directory to PATH or, if you prefer to suppress this warning, use --no-warn-script-location.\n",
      "  WARNING: The scripts pyrsa-decrypt.exe, pyrsa-encrypt.exe, pyrsa-keygen.exe, pyrsa-priv2pub.exe, pyrsa-sign.exe and pyrsa-verify.exe are installed in 'C:\\Users\\JGK687\\AppData\\Roaming\\Python\\Python39\\Scripts' which is not on PATH.\n",
      "  Consider adding this directory to PATH or, if you prefer to suppress this warning, use --no-warn-script-location.\n",
      "  WARNING: The script f2py.exe is installed in 'C:\\Users\\JGK687\\AppData\\Roaming\\Python\\Python39\\Scripts' which is not on PATH.\n",
      "  Consider adding this directory to PATH or, if you prefer to suppress this warning, use --no-warn-script-location.\n",
      "  WARNING: The script markdown_py.exe is installed in 'C:\\Users\\JGK687\\AppData\\Roaming\\Python\\Python39\\Scripts' which is not on PATH.\n",
      "  Consider adding this directory to PATH or, if you prefer to suppress this warning, use --no-warn-script-location.\n",
      "  WARNING: The script google-oauthlib-tool.exe is installed in 'C:\\Users\\JGK687\\AppData\\Roaming\\Python\\Python39\\Scripts' which is not on PATH.\n",
      "  Consider adding this directory to PATH or, if you prefer to suppress this warning, use --no-warn-script-location.\n",
      "  WARNING: The scripts fonttools.exe, pyftmerge.exe, pyftsubset.exe and ttx.exe are installed in 'C:\\Users\\JGK687\\AppData\\Roaming\\Python\\Python39\\Scripts' which is not on PATH.\n",
      "  Consider adding this directory to PATH or, if you prefer to suppress this warning, use --no-warn-script-location.\n",
      "  WARNING: The script tensorboard.exe is installed in 'C:\\Users\\JGK687\\AppData\\Roaming\\Python\\Python39\\Scripts' which is not on PATH.\n",
      "  Consider adding this directory to PATH or, if you prefer to suppress this warning, use --no-warn-script-location.\n",
      "  WARNING: The script pygmentize.exe is installed in 'C:\\Users\\JGK687\\AppData\\Roaming\\Python\\Python39\\Scripts' which is not on PATH.\n",
      "  Consider adding this directory to PATH or, if you prefer to suppress this warning, use --no-warn-script-location.\n",
      "  WARNING: The script bokeh.exe is installed in 'C:\\Users\\JGK687\\AppData\\Roaming\\Python\\Python39\\Scripts' which is not on PATH.\n",
      "  Consider adding this directory to PATH or, if you prefer to suppress this warning, use --no-warn-script-location.\n",
      "  WARNING: The script virtualenv.exe is installed in 'C:\\Users\\JGK687\\AppData\\Roaming\\Python\\Python39\\Scripts' which is not on PATH.\n",
      "  Consider adding this directory to PATH or, if you prefer to suppress this warning, use --no-warn-script-location.\n",
      "  WARNING: The scripts estimator_ckpt_converter.exe, import_pb_to_tensorboard.exe, saved_model_cli.exe, tensorboard.exe, tf_upgrade_v2.exe, tflite_convert.exe, toco.exe and toco_from_protos.exe are installed in 'C:\\Users\\JGK687\\AppData\\Roaming\\Python\\Python39\\Scripts' which is not on PATH.\n",
      "  Consider adding this directory to PATH or, if you prefer to suppress this warning, use --no-warn-script-location.\n",
      "  WARNING: The scripts ipython.exe and ipython3.exe are installed in 'C:\\Users\\JGK687\\AppData\\Roaming\\Python\\Python39\\Scripts' which is not on PATH.\n",
      "  Consider adding this directory to PATH or, if you prefer to suppress this warning, use --no-warn-script-location.\n",
      "ERROR: pip's dependency resolver does not currently take into account all the packages that are installed. This behaviour is the source of the following dependency conflicts.\n",
      "spyder 5.1.5 requires pyqt5<5.13, which is not installed.\n",
      "spyder 5.1.5 requires pyqtwebengine<5.13, which is not installed.\n",
      "daal4py 2021.5.0 requires daal==2021.4.0, which is not installed.\n",
      "anaconda-project 0.10.2 requires ruamel-yaml, which is not installed.\n",
      "numba 0.55.1 requires numpy<1.22,>=1.18, but you have numpy 1.23.2 which is incompatible.\n",
      "jupyter-server 1.13.5 requires pywinpty<2; os_name == \"nt\", but you have pywinpty 2.0.2 which is incompatible.\n",
      "google-cloud-storage 1.31.0 requires google-auth<2.0dev,>=1.11.0, but you have google-auth 2.10.0 which is incompatible.\n",
      "google-cloud-core 1.7.1 requires google-auth<2.0dev,>=1.24.0, but you have google-auth 2.10.0 which is incompatible.\n",
      "google-api-core 1.25.1 requires google-auth<2.0dev,>=1.21.1, but you have google-auth 2.10.0 which is incompatible.\n",
      "astroid 2.6.6 requires wrapt<1.13,>=1.11, but you have wrapt 1.14.1 which is incompatible.\n",
      "WARNING: Ignoring invalid distribution -harset-normalizer (c:\\users\\jgk687\\anaconda3\\lib\\site-packages)\n",
      "WARNING: Ignoring invalid distribution -harset-normalizer (c:\\users\\jgk687\\anaconda3\\lib\\site-packages)\n",
      "WARNING: Ignoring invalid distribution -harset-normalizer (c:\\users\\jgk687\\anaconda3\\lib\\site-packages)\n"
     ]
    },
    {
     "name": "stdout",
     "output_type": "stream",
     "text": [
      "Collecting keras==2.9.0\n",
      "  Using cached keras-2.9.0-py2.py3-none-any.whl (1.6 MB)\n",
      "Collecting Keras-Preprocessing==1.1.2\n",
      "  Using cached Keras_Preprocessing-1.1.2-py2.py3-none-any.whl (42 kB)\n",
      "Collecting kiwisolver==1.4.4\n",
      "  Using cached kiwisolver-1.4.4-cp39-cp39-win_amd64.whl (55 kB)\n",
      "Collecting libclang==14.0.6\n",
      "  Using cached libclang-14.0.6-py2.py3-none-win_amd64.whl (14.2 MB)\n",
      "Collecting livelossplot==0.5.5\n",
      "  Using cached livelossplot-0.5.5-py3-none-any.whl (22 kB)\n",
      "Collecting Markdown==3.4.1\n",
      "  Using cached Markdown-3.4.1-py3-none-any.whl (93 kB)\n",
      "Collecting MarkupSafe==2.1.1\n",
      "  Using cached MarkupSafe-2.1.1-cp39-cp39-win_amd64.whl (17 kB)\n",
      "Collecting matplotlib==3.5.3\n",
      "  Using cached matplotlib-3.5.3-cp39-cp39-win_amd64.whl (7.2 MB)\n",
      "Collecting matplotlib-inline==0.1.6\n",
      "  Using cached matplotlib_inline-0.1.6-py3-none-any.whl (9.4 kB)\n",
      "Collecting numpy==1.23.2\n",
      "  Using cached numpy-1.23.2-cp39-cp39-win_amd64.whl (14.7 MB)\n",
      "Collecting oauthlib==3.2.0\n",
      "  Using cached oauthlib-3.2.0-py3-none-any.whl (151 kB)\n",
      "Collecting opencv-python==4.6.0.66\n",
      "  Using cached opencv_python-4.6.0.66-cp36-abi3-win_amd64.whl (35.6 MB)\n",
      "Collecting opt-einsum==3.3.0\n",
      "  Using cached opt_einsum-3.3.0-py3-none-any.whl (65 kB)\n",
      "Requirement already satisfied: packaging==21.3 in c:\\users\\jgk687\\anaconda3\\lib\\site-packages (from -r requirements.txt (line 41)) (21.3)\n",
      "Collecting pandas==1.4.3\n",
      "  Using cached pandas-1.4.3-cp39-cp39-win_amd64.whl (10.6 MB)\n",
      "Requirement already satisfied: parso==0.8.3 in c:\\users\\jgk687\\anaconda3\\lib\\site-packages (from -r requirements.txt (line 43)) (0.8.3)\n",
      "Requirement already satisfied: pickleshare==0.7.5 in c:\\users\\jgk687\\anaconda3\\lib\\site-packages (from -r requirements.txt (line 44)) (0.7.5)\n",
      "Collecting Pillow==9.2.0\n",
      "  Using cached Pillow-9.2.0-cp39-cp39-win_amd64.whl (3.3 MB)\n",
      "Collecting platformdirs==2.5.2\n",
      "  Using cached platformdirs-2.5.2-py3-none-any.whl (14 kB)\n",
      "Collecting prompt-toolkit==3.0.30\n",
      "  Using cached prompt_toolkit-3.0.30-py3-none-any.whl (381 kB)\n",
      "Collecting protobuf==3.19.4\n",
      "  Using cached protobuf-3.19.4-cp39-cp39-win_amd64.whl (895 kB)\n",
      "Requirement already satisfied: pure-eval==0.2.2 in c:\\users\\jgk687\\anaconda3\\lib\\site-packages (from -r requirements.txt (line 49)) (0.2.2)\n",
      "Requirement already satisfied: pyasn1==0.4.8 in c:\\users\\jgk687\\anaconda3\\lib\\site-packages (from -r requirements.txt (line 50)) (0.4.8)\n",
      "Requirement already satisfied: pyasn1-modules==0.2.8 in c:\\users\\jgk687\\anaconda3\\lib\\site-packages (from -r requirements.txt (line 51)) (0.2.8)\n",
      "Collecting Pygments==2.13.0\n",
      "  Using cached Pygments-2.13.0-py3-none-any.whl (1.1 MB)\n",
      "Collecting pyparsing==3.0.9\n",
      "  Using cached pyparsing-3.0.9-py3-none-any.whl (98 kB)\n",
      "Requirement already satisfied: python-dateutil==2.8.2 in c:\\users\\jgk687\\anaconda3\\lib\\site-packages (from -r requirements.txt (line 54)) (2.8.2)\n",
      "Collecting pytz==2022.2.1\n",
      "  Using cached pytz-2022.2.1-py2.py3-none-any.whl (500 kB)\n",
      "Requirement already satisfied: PyYAML==6.0 in c:\\users\\jgk687\\anaconda3\\lib\\site-packages (from -r requirements.txt (line 56)) (6.0)\n",
      "Collecting requests==2.28.1\n",
      "  Using cached requests-2.28.1-py3-none-any.whl (62 kB)\n",
      "Collecting requests-oauthlib==1.3.1\n",
      "  Using cached requests_oauthlib-1.3.1-py2.py3-none-any.whl (23 kB)\n",
      "Collecting rsa==4.9\n",
      "  Using cached rsa-4.9-py3-none-any.whl (34 kB)\n",
      "Collecting scikit-learn==1.1.2\n",
      "  Using cached scikit_learn-1.1.2-cp39-cp39-win_amd64.whl (7.4 MB)\n",
      "Collecting scipy==1.9.0\n",
      "  Using cached scipy-1.9.0-cp39-cp39-win_amd64.whl (38.6 MB)\n",
      "Requirement already satisfied: seaborn==0.11.2 in c:\\users\\jgk687\\anaconda3\\lib\\site-packages (from -r requirements.txt (line 62)) (0.11.2)\n",
      "Requirement already satisfied: six==1.16.0 in c:\\users\\jgk687\\anaconda3\\lib\\site-packages (from -r requirements.txt (line 63)) (1.16.0)\n",
      "Collecting stack-data==0.4.0\n",
      "  Using cached stack_data-0.4.0-py3-none-any.whl (23 kB)\n",
      "Collecting tensorboard==2.9.1\n",
      "  Using cached tensorboard-2.9.1-py3-none-any.whl (5.8 MB)\n",
      "Collecting tensorboard-data-server==0.6.1\n",
      "  Using cached tensorboard_data_server-0.6.1-py3-none-any.whl (2.4 kB)\n",
      "Collecting tensorboard-plugin-wit==1.8.1\n",
      "  Using cached tensorboard_plugin_wit-1.8.1-py3-none-any.whl (781 kB)\n",
      "Collecting tensorflow==2.9.1\n",
      "  Using cached tensorflow-2.9.1-cp39-cp39-win_amd64.whl (444.0 MB)\n",
      "Collecting tensorflow-estimator==2.9.0\n",
      "  Using cached tensorflow_estimator-2.9.0-py2.py3-none-any.whl (438 kB)\n",
      "Collecting tensorflow-io-gcs-filesystem==0.26.0\n",
      "  Using cached tensorflow_io_gcs_filesystem-0.26.0-cp39-cp39-win_amd64.whl (1.5 MB)\n",
      "Collecting termcolor==1.1.0\n",
      "  Using cached termcolor-1.1.0-py3-none-any.whl\n",
      "Collecting tf-estimator-nightly==2.8.0.dev2021122109\n",
      "  Using cached tf_estimator_nightly-2.8.0.dev2021122109-py2.py3-none-any.whl (462 kB)\n",
      "Collecting threadpoolctl==3.1.0\n",
      "  Using cached threadpoolctl-3.1.0-py3-none-any.whl (14 kB)\n",
      "Collecting tornado==6.2\n",
      "  Using cached tornado-6.2-cp37-abi3-win_amd64.whl (425 kB)\n",
      "Collecting traitlets==5.3.0\n",
      "  Using cached traitlets-5.3.0-py3-none-any.whl (106 kB)\n",
      "Collecting typing_extensions==4.3.0\n",
      "  Using cached typing_extensions-4.3.0-py3-none-any.whl (25 kB)\n",
      "Requirement already satisfied: urllib3==1.26.11 in c:\\users\\jgk687\\anaconda3\\lib\\site-packages (from -r requirements.txt (line 77)) (1.26.11)\n",
      "Collecting virtualenv==20.16.3\n",
      "  Using cached virtualenv-20.16.3-py2.py3-none-any.whl (8.8 MB)\n",
      "Requirement already satisfied: wcwidth==0.2.5 in c:\\users\\jgk687\\anaconda3\\lib\\site-packages (from -r requirements.txt (line 79)) (0.2.5)\n",
      "Collecting Werkzeug==2.2.2\n",
      "  Using cached Werkzeug-2.2.2-py3-none-any.whl (232 kB)\n",
      "Collecting wrapt==1.14.1\n",
      "  Using cached wrapt-1.14.1-cp39-cp39-win_amd64.whl (35 kB)\n",
      "Requirement already satisfied: wheel<1.0,>=0.23.0 in c:\\users\\jgk687\\anaconda3\\lib\\site-packages (from astunparse==1.6.3->-r requirements.txt (line 3)) (0.37.1)\n",
      "Requirement already satisfied: setuptools>=18.5 in c:\\users\\jgk687\\anaconda3\\lib\\site-packages (from ipython==8.4.0->-r requirements.txt (line 24)) (61.2.0)\n",
      "Requirement already satisfied: importlib-metadata>=4.4 in c:\\users\\jgk687\\anaconda3\\lib\\site-packages (from Markdown==3.4.1->-r requirements.txt (line 33)) (4.11.3)\n",
      "Requirement already satisfied: zipp>=0.5 in c:\\users\\jgk687\\anaconda3\\lib\\site-packages (from importlib-metadata>=4.4->Markdown==3.4.1->-r requirements.txt (line 33)) (3.7.0)\n",
      "Installing collected packages: charset-normalizer, certifi, rsa, requests, oauthlib, cachetools, requests-oauthlib, pyparsing, MarkupSafe, google-auth, Werkzeug, typing-extensions, traitlets, tornado, tensorboard-plugin-wit, tensorboard-data-server, pytz, protobuf, Pillow, numpy, Markdown, kiwisolver, Jinja2, grpcio, google-auth-oauthlib, fonttools, executing, asttokens, absl-py, wrapt, threadpoolctl, termcolor, tensorflow-io-gcs-filesystem, tensorflow-estimator, tensorboard, stack-data, scipy, Pygments, prompt-toolkit, platformdirs, pandas, opt-einsum, matplotlib-inline, matplotlib, libclang, Keras-Preprocessing, keras, h5py, google-pasta, gast, flatbuffers, filelock, distlib, colorama, bokeh, astunparse, virtualenv, tf-estimator-nightly, tensorflow, scikit-learn, opencv-python, livelossplot, ipython\n",
      "Successfully installed Jinja2-3.1.2 Keras-Preprocessing-1.1.2 Markdown-3.4.1 MarkupSafe-2.1.1 Pillow-9.2.0 Pygments-2.13.0 Werkzeug-2.2.2 absl-py-1.2.0 asttokens-2.0.8 astunparse-1.6.3 bokeh-2.4.3 cachetools-5.2.0 certifi-2022.6.15 charset-normalizer-2.1.0 colorama-0.4.5 distlib-0.3.5 executing-0.10.0 filelock-3.8.0 flatbuffers-1.12 fonttools-4.36.0 gast-0.4.0 google-auth-2.10.0 google-auth-oauthlib-0.4.6 google-pasta-0.2.0 grpcio-1.47.0 h5py-3.7.0 ipython-8.4.0 keras-2.9.0 kiwisolver-1.4.4 libclang-14.0.6 livelossplot-0.5.5 matplotlib-3.5.3 matplotlib-inline-0.1.6 numpy-1.23.2 oauthlib-3.2.0 opencv-python-4.6.0.66 opt-einsum-3.3.0 pandas-1.4.3 platformdirs-2.5.2 prompt-toolkit-3.0.30 protobuf-3.19.4 pyparsing-3.0.9 pytz-2022.2.1 requests-2.28.1 requests-oauthlib-1.3.1 rsa-4.9 scikit-learn-1.1.2 scipy-1.9.0 stack-data-0.4.0 tensorboard-2.9.1 tensorboard-data-server-0.6.1 tensorboard-plugin-wit-1.8.1 tensorflow-2.9.1 tensorflow-estimator-2.9.0 tensorflow-io-gcs-filesystem-0.26.0 termcolor-1.1.0 tf-estimator-nightly-2.8.0.dev2021122109 threadpoolctl-3.1.0 tornado-6.2 traitlets-5.3.0 typing-extensions-4.3.0 virtualenv-20.16.3 wrapt-1.14.1\n"
     ]
    }
   ],
   "source": [
    "pip install -r requirements.txt --user"
   ]
  },
  {
   "cell_type": "code",
   "execution_count": 100,
   "metadata": {
    "scrolled": false
   },
   "outputs": [],
   "source": [
    "from tensorflow import keras\n",
    "from keras.preprocessing.image import ImageDataGenerator\n",
    "from keras.models import Sequential\n",
    "from keras.layers import Conv2D, MaxPooling2D\n",
    "from keras.layers import Activation, Dropout, Flatten, Dense\n",
    "from keras import backend as K\n",
    "\n",
    "from keras.callbacks import EarlyStopping\n",
    "import matplotlib.pyplot as plt"
   ]
  },
  {
   "cell_type": "markdown",
   "metadata": {},
   "source": [
    "### Step 2: Initialize the image size"
   ]
  },
  {
   "cell_type": "code",
   "execution_count": 7,
   "metadata": {},
   "outputs": [],
   "source": [
    "img_width, img_height = 224, 224"
   ]
  },
  {
   "cell_type": "markdown",
   "metadata": {},
   "source": [
    "### Step 3: Set the path for train and validation dataset"
   ]
  },
  {
   "cell_type": "code",
   "execution_count": 71,
   "metadata": {},
   "outputs": [],
   "source": [
    "train_data_dir = 'dataset/train'\n",
    "validation_data_dir = 'dataset/val'\n",
    "nb_train_samples =600        # total no of train samples\n",
    "nb_validation_samples = 300   # total no of validation samples \n",
    "epochs = 20                   # no of epochs \n",
    "batch_size = 16               # no of batch size"
   ]
  },
  {
   "cell_type": "markdown",
   "metadata": {},
   "source": [
    "### Step 4: Checking format of Image "
   ]
  },
  {
   "cell_type": "code",
   "execution_count": 72,
   "metadata": {},
   "outputs": [],
   "source": [
    "if K.image_data_format() == 'channels_first':\n",
    "    input_shape = (3, img_width, img_height)\n",
    "else:\n",
    "    input_shape = (img_width, img_height, 3)"
   ]
  },
  {
   "cell_type": "markdown",
   "metadata": {},
   "source": [
    "### Step 5: Image Data Generator"
   ]
  },
  {
   "cell_type": "code",
   "execution_count": 73,
   "metadata": {},
   "outputs": [
    {
     "name": "stdout",
     "output_type": "stream",
     "text": [
      "Found 600 images belonging to 2 classes.\n",
      "Found 300 images belonging to 2 classes.\n"
     ]
    }
   ],
   "source": [
    "train_datagen = ImageDataGenerator(\n",
    "    rescale=1. / 255,\n",
    "    shear_range=0.2,\n",
    "    zoom_range=0.2,\n",
    "    horizontal_flip=True)\n",
    " \n",
    "test_datagen = ImageDataGenerator(rescale=1. / 255)\n",
    " \n",
    "train_generator = train_datagen.flow_from_directory(\n",
    "    train_data_dir,\n",
    "    target_size=(img_width, img_height),\n",
    "    batch_size=batch_size,\n",
    "    class_mode='binary')\n",
    " \n",
    "validation_generator = test_datagen.flow_from_directory(\n",
    "    validation_data_dir,\n",
    "    target_size=(img_width, img_height),\n",
    "    batch_size=batch_size,\n",
    "    class_mode='binary')"
   ]
  },
  {
   "cell_type": "markdown",
   "metadata": {},
   "source": [
    "### Step 6: Model network"
   ]
  },
  {
   "cell_type": "code",
   "execution_count": 74,
   "metadata": {},
   "outputs": [],
   "source": [
    "model = Sequential()\n",
    "model.add(Conv2D(32, (2, 2), input_shape=input_shape))\n",
    "model.add(Activation('relu'))\n",
    "model.add(MaxPooling2D(pool_size=(2, 2)))\n",
    " \n",
    "model.add(Conv2D(32, (2, 2)))\n",
    "model.add(Activation('relu'))\n",
    "model.add(MaxPooling2D(pool_size=(2, 2)))\n",
    " \n",
    "model.add(Conv2D(64, (2, 2)))\n",
    "model.add(Activation('relu'))\n",
    "model.add(MaxPooling2D(pool_size=(2, 2)))\n",
    " \n",
    "model.add(Flatten())\n",
    "model.add(Dense(64))\n",
    "model.add(Activation('relu'))\n",
    "model.add(Dropout(0.5))\n",
    "model.add(Dense(1))\n",
    "model.add(Activation('sigmoid'))"
   ]
  },
  {
   "cell_type": "code",
   "execution_count": 75,
   "metadata": {},
   "outputs": [
    {
     "name": "stdout",
     "output_type": "stream",
     "text": [
      "Model: \"sequential_6\"\n",
      "_________________________________________________________________\n",
      " Layer (type)                Output Shape              Param #   \n",
      "=================================================================\n",
      " conv2d_18 (Conv2D)          (None, 223, 223, 32)      416       \n",
      "                                                                 \n",
      " activation_30 (Activation)  (None, 223, 223, 32)      0         \n",
      "                                                                 \n",
      " max_pooling2d_18 (MaxPoolin  (None, 111, 111, 32)     0         \n",
      " g2D)                                                            \n",
      "                                                                 \n",
      " conv2d_19 (Conv2D)          (None, 110, 110, 32)      4128      \n",
      "                                                                 \n",
      " activation_31 (Activation)  (None, 110, 110, 32)      0         \n",
      "                                                                 \n",
      " max_pooling2d_19 (MaxPoolin  (None, 55, 55, 32)       0         \n",
      " g2D)                                                            \n",
      "                                                                 \n",
      " conv2d_20 (Conv2D)          (None, 54, 54, 64)        8256      \n",
      "                                                                 \n",
      " activation_32 (Activation)  (None, 54, 54, 64)        0         \n",
      "                                                                 \n",
      " max_pooling2d_20 (MaxPoolin  (None, 27, 27, 64)       0         \n",
      " g2D)                                                            \n",
      "                                                                 \n",
      " flatten_6 (Flatten)         (None, 46656)             0         \n",
      "                                                                 \n",
      " dense_12 (Dense)            (None, 64)                2986048   \n",
      "                                                                 \n",
      " activation_33 (Activation)  (None, 64)                0         \n",
      "                                                                 \n",
      " dropout_6 (Dropout)         (None, 64)                0         \n",
      "                                                                 \n",
      " dense_13 (Dense)            (None, 1)                 65        \n",
      "                                                                 \n",
      " activation_34 (Activation)  (None, 1)                 0         \n",
      "                                                                 \n",
      "=================================================================\n",
      "Total params: 2,998,913\n",
      "Trainable params: 2,998,913\n",
      "Non-trainable params: 0\n",
      "_________________________________________________________________\n"
     ]
    }
   ],
   "source": [
    "model.summary()"
   ]
  },
  {
   "cell_type": "markdown",
   "metadata": {},
   "source": [
    "### Step 7: Compiling the model"
   ]
  },
  {
   "cell_type": "code",
   "execution_count": 76,
   "metadata": {},
   "outputs": [],
   "source": [
    "model.compile(loss='binary_crossentropy',\n",
    "              optimizer='rmsprop',\n",
    "              metrics=['accuracy'])"
   ]
  },
  {
   "cell_type": "markdown",
   "metadata": {},
   "source": [
    "### Step 8: Model Training"
   ]
  },
  {
   "cell_type": "code",
   "execution_count": 77,
   "metadata": {
    "scrolled": true
   },
   "outputs": [
    {
     "name": "stdout",
     "output_type": "stream",
     "text": [
      "Epoch 1/20\n",
      "37/37 [==============================] - 15s 393ms/step - loss: 0.8552 - accuracy: 0.5736 - val_loss: 0.5959 - val_accuracy: 0.6840\n",
      "Epoch 2/20\n",
      "37/37 [==============================] - 17s 455ms/step - loss: 0.6000 - accuracy: 0.7209 - val_loss: 0.9044 - val_accuracy: 0.5660\n",
      "Epoch 3/20\n",
      "37/37 [==============================] - 18s 484ms/step - loss: 0.5089 - accuracy: 0.7877 - val_loss: 0.4749 - val_accuracy: 0.7708\n",
      "Epoch 4/20\n",
      "37/37 [==============================] - 20s 529ms/step - loss: 0.4643 - accuracy: 0.7997 - val_loss: 0.5143 - val_accuracy: 0.7674\n",
      "Epoch 5/20\n",
      "37/37 [==============================] - 19s 519ms/step - loss: 0.4090 - accuracy: 0.8271 - val_loss: 0.8675 - val_accuracy: 0.6736\n",
      "Epoch 6/20\n",
      "37/37 [==============================] - 18s 474ms/step - loss: 0.3922 - accuracy: 0.8390 - val_loss: 0.4782 - val_accuracy: 0.7778\n",
      "Epoch 7/20\n",
      "37/37 [==============================] - 18s 496ms/step - loss: 0.3575 - accuracy: 0.8630 - val_loss: 0.3991 - val_accuracy: 0.8229\n",
      "Epoch 8/20\n",
      "37/37 [==============================] - 18s 491ms/step - loss: 0.3374 - accuracy: 0.8716 - val_loss: 0.6627 - val_accuracy: 0.7639\n",
      "Epoch 9/20\n",
      "37/37 [==============================] - 19s 503ms/step - loss: 0.2610 - accuracy: 0.8887 - val_loss: 0.5969 - val_accuracy: 0.7639\n",
      "Epoch 10/20\n",
      "37/37 [==============================] - 18s 484ms/step - loss: 0.3010 - accuracy: 0.8767 - val_loss: 0.7374 - val_accuracy: 0.7361\n",
      "Epoch 11/20\n",
      "37/37 [==============================] - 20s 534ms/step - loss: 0.2819 - accuracy: 0.8750 - val_loss: 0.3414 - val_accuracy: 0.8715\n",
      "Epoch 12/20\n",
      "37/37 [==============================] - 18s 498ms/step - loss: 0.2337 - accuracy: 0.9058 - val_loss: 0.5495 - val_accuracy: 0.7951\n",
      "Epoch 13/20\n",
      "37/37 [==============================] - 18s 494ms/step - loss: 0.2622 - accuracy: 0.8955 - val_loss: 0.8246 - val_accuracy: 0.7292\n",
      "Epoch 14/20\n",
      "37/37 [==============================] - 20s 532ms/step - loss: 0.2368 - accuracy: 0.9075 - val_loss: 0.4072 - val_accuracy: 0.8472\n",
      "Epoch 15/20\n",
      "37/37 [==============================] - 19s 511ms/step - loss: 0.2386 - accuracy: 0.8973 - val_loss: 0.3663 - val_accuracy: 0.8750\n",
      "Epoch 16/20\n",
      "37/37 [==============================] - 19s 511ms/step - loss: 0.2329 - accuracy: 0.9212 - val_loss: 0.3353 - val_accuracy: 0.8681\n",
      "Epoch 17/20\n",
      "37/37 [==============================] - 19s 506ms/step - loss: 0.2138 - accuracy: 0.9195 - val_loss: 0.3032 - val_accuracy: 0.8993\n",
      "Epoch 18/20\n",
      "37/37 [==============================] - 19s 508ms/step - loss: 0.2099 - accuracy: 0.9212 - val_loss: 0.2966 - val_accuracy: 0.9097\n",
      "Epoch 19/20\n",
      "37/37 [==============================] - 19s 511ms/step - loss: 0.1806 - accuracy: 0.9298 - val_loss: 0.3359 - val_accuracy: 0.8785\n",
      "Epoch 20/20\n",
      "37/37 [==============================] - 20s 546ms/step - loss: 0.2023 - accuracy: 0.9229 - val_loss: 0.3499 - val_accuracy: 0.8750\n"
     ]
    }
   ],
   "source": [
    "history = model.fit(\n",
    "    train_generator,\n",
    "    steps_per_epoch=nb_train_samples // batch_size,\n",
    "    epochs=epochs,\n",
    "    validation_data=validation_generator,\n",
    "    validation_steps=nb_validation_samples // batch_size)"
   ]
  },
  {
   "cell_type": "markdown",
   "metadata": {},
   "source": [
    "### Step 9: Saving the model training"
   ]
  },
  {
   "cell_type": "code",
   "execution_count": 78,
   "metadata": {},
   "outputs": [
    {
     "name": "stdout",
     "output_type": "stream",
     "text": [
      "\n",
      "Model Successfully Saved\n"
     ]
    }
   ],
   "source": [
    "model.save('model_saved.h5')\n",
    "print(\"\\nModel Successfully Saved\")"
   ]
  },
  {
   "cell_type": "markdown",
   "metadata": {},
   "source": [
    "### Step 10: Model Evaluation "
   ]
  },
  {
   "cell_type": "code",
   "execution_count": 79,
   "metadata": {},
   "outputs": [
    {
     "data": {
      "image/png": "[encoded data removed]",
      "text/plain": [
       "<Figure size 800x800 with 2 Axes>"
      ]
     },
     "metadata": {},
     "output_type": "display_data"
    }
   ],
   "source": [
    "acc = history.history['accuracy']\n",
    "val_acc = history.history['val_accuracy']\n",
    "\n",
    "loss = history.history['loss']\n",
    "val_loss = history.history['val_loss']\n",
    "\n",
    "epochs_range = range(epochs)\n",
    "\n",
    "plt.figure(figsize=(8, 8))\n",
    "plt.subplot(1, 2, 1)\n",
    "plt.plot(epochs_range, acc, label='Training Accuracy')\n",
    "plt.plot(epochs_range, val_acc, label='Validation Accuracy')\n",
    "plt.legend(loc='lower right')\n",
    "plt.title('Training and Validation Accuracy')\n",
    "\n",
    "plt.subplot(1, 2, 2)\n",
    "plt.plot(epochs_range, loss, label='Training Loss')\n",
    "plt.plot(epochs_range, val_loss, label='Validation Loss')\n",
    "plt.legend(loc='upper right')\n",
    "plt.title('Training and Validation Loss')\n",
    "plt.show()"
   ]
  },
  {
   "cell_type": "markdown",
   "metadata": {},
   "source": [
    "### Step 11: Model Accuracy"
   ]
  },
  {
   "cell_type": "code",
   "execution_count": 80,
   "metadata": {},
   "outputs": [
    {
     "name": "stdout",
     "output_type": "stream",
     "text": [
      "38/38 [==============================] - 7s 189ms/step - loss: 0.1028 - accuracy: 0.9650\n",
      "19/19 [==============================] - 1s 68ms/step - loss: 0.3645 - accuracy: 0.8733\n",
      "Training Accuracy  : 96.50%     Training loss  : 0.102781\n",
      "Validation Accuracy: 87.33%     Validation loss: 0.364549\n"
     ]
    }
   ],
   "source": [
    "x1 = model.evaluate(train_generator)\n",
    "x2 = model.evaluate(validation_generator)\n",
    "\n",
    "print('Training Accuracy  : %1.2f%%     Training loss  : %1.6f'%(x1[1]*100,x1[0]))\n",
    "print('Validation Accuracy: %1.2f%%     Validation loss: %1.6f'%(x2[1]*100,x2[0]))"
   ]
  },
  {
   "cell_type": "markdown",
   "metadata": {},
   "source": [
    "## Classified the car "
   ]
  },
  {
   "cell_type": "markdown",
   "metadata": {},
   "source": [
    "### Step 1: Importing all the necessary libraries "
   ]
  },
  {
   "cell_type": "code",
   "execution_count": 81,
   "metadata": {},
   "outputs": [],
   "source": [
    "from tensorflow import keras\n",
    "\n",
    "from keras.models import load_model\n",
    "from keras.utils import load_img, img_to_array\n",
    "from keras.applications.vgg16 import preprocess_input\n",
    "from keras.applications.vgg16 import decode_predictions\n",
    "from keras.applications.vgg16 import VGG16\n",
    "import numpy as np\n",
    "\n",
    "import matplotlib.pyplot as plt\n",
    "import cv2"
   ]
  },
  {
   "cell_type": "markdown",
   "metadata": {},
   "source": [
    "### Step 2: Load the model "
   ]
  },
  {
   "cell_type": "code",
   "execution_count": 82,
   "metadata": {},
   "outputs": [],
   "source": [
    "model=load_model('model_saved.h5')"
   ]
  },
  {
   "cell_type": "markdown",
   "metadata": {},
   "source": [
    "### Step 3: Setup the test image "
   ]
  },
  {
   "cell_type": "code",
   "execution_count": 105,
   "metadata": {},
   "outputs": [
    {
     "name": "stdout",
     "output_type": "stream",
     "text": [
      "1/1 [==============================] - 0s 20ms/step\n"
     ]
    }
   ],
   "source": [
    "image = load_img('dataset/test/swift.png', target_size=(224, 224))\n",
    "img = np.array(image)\n",
    "img = img / 255.0\n",
    "img = img.reshape(1,224,224,3)\n",
    "label = model.predict(img)\n"
   ]
  },
  {
   "cell_type": "markdown",
   "metadata": {},
   "source": [
    "### Step 4: The Result"
   ]
  },
  {
   "cell_type": "code",
   "execution_count": 107,
   "metadata": {},
   "outputs": [
    {
     "name": "stdout",
     "output_type": "stream",
     "text": [
      "This car is an Electric Car!\n"
     ]
    }
   ],
   "source": [
    "if label<0.01:\n",
    "    print(\"This car is an Electric Car!\")\n",
    "else:\n",
    "    print (\"This car is not an Electric Car!\")"
   ]
  },
  {
   "cell_type": "code",
   "execution_count": null,
   "metadata": {},
   "outputs": [],
   "source": []
  }
 ],
 "metadata": {
  "kernelspec": {
   "display_name": "Python 3 (ipykernel)",
   "language": "python",
   "name": "python3"
  },
  "language_info": {
   "codemirror_mode": {
    "name": "ipython",
    "version": 3
   },
   "file_extension": ".py",
   "mimetype": "text/x-python",
   "name": "python",
   "nbconvert_exporter": "python",
   "pygments_lexer": "ipython3",
   "version": "3.9.12"
  },
  "vscode": {
   "interpreter": {
    "hash": "482b6ee6a04651d9654ff3ef9b69243b1545d96943d3e4eef58b11153941267e"
   }
  }
 },
 "nbformat": 4,
 "nbformat_minor": 2
}
